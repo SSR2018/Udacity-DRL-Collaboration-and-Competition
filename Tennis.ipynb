{
 "cells": [
  {
   "cell_type": "markdown",
   "metadata": {},
   "source": [
    "# Collaboration and Competition\n",
    "\n",
    "---\n",
    "\n",
    "You are welcome to use this coding environment to train your agent for the project.  Follow the instructions below to get started!\n",
    "\n",
    "### 1. Start the Environment\n",
    "\n",
    "Run the next code cell to install a few packages.  This line will take a few minutes to run!"
   ]
  },
  {
   "cell_type": "code",
   "execution_count": 1,
   "metadata": {},
   "outputs": [
    {
     "name": "stdout",
     "output_type": "stream",
     "text": [
      "\u001b[31mtensorflow 1.7.1 has requirement numpy>=1.13.3, but you'll have numpy 1.12.1 which is incompatible.\u001b[0m\r\n",
      "\u001b[31mipython 6.5.0 has requirement prompt-toolkit<2.0.0,>=1.0.15, but you'll have prompt-toolkit 2.0.9 which is incompatible.\u001b[0m\r\n"
     ]
    }
   ],
   "source": [
    "!pip -q install ./python"
   ]
  },
  {
   "cell_type": "markdown",
   "metadata": {},
   "source": [
    "The environment is already saved in the Workspace and can be accessed at the file path provided below. "
   ]
  },
  {
   "cell_type": "code",
   "execution_count": 2,
   "metadata": {},
   "outputs": [
    {
     "name": "stderr",
     "output_type": "stream",
     "text": [
      "INFO:unityagents:\n",
      "'Academy' started successfully!\n",
      "Unity Academy name: Academy\n",
      "        Number of Brains: 1\n",
      "        Number of External Brains : 1\n",
      "        Lesson number : 0\n",
      "        Reset Parameters :\n",
      "\t\t\n",
      "Unity brain name: TennisBrain\n",
      "        Number of Visual Observations (per agent): 0\n",
      "        Vector Observation space type: continuous\n",
      "        Vector Observation space size (per agent): 8\n",
      "        Number of stacked Vector Observation: 3\n",
      "        Vector Action space type: continuous\n",
      "        Vector Action space size (per agent): 2\n",
      "        Vector Action descriptions: , \n"
     ]
    }
   ],
   "source": [
    "from unityagents import UnityEnvironment\n",
    "import numpy as np\n",
    "\n",
    "env = UnityEnvironment(file_name=\"/data/Tennis_Linux_NoVis/Tennis\")"
   ]
  },
  {
   "cell_type": "markdown",
   "metadata": {},
   "source": [
    "Environments contain **_brains_** which are responsible for deciding the actions of their associated agents. Here we check for the first brain available, and set it as the default brain we will be controlling from Python."
   ]
  },
  {
   "cell_type": "code",
   "execution_count": 3,
   "metadata": {},
   "outputs": [],
   "source": [
    "# get the default brain\n",
    "brain_name = env.brain_names[0]\n",
    "brain = env.brains[brain_name]"
   ]
  },
  {
   "cell_type": "markdown",
   "metadata": {},
   "source": [
    "### 2. Examine the State and Action Spaces\n",
    "\n",
    "Run the code cell below to print some information about the environment."
   ]
  },
  {
   "cell_type": "code",
   "execution_count": 4,
   "metadata": {},
   "outputs": [
    {
     "name": "stdout",
     "output_type": "stream",
     "text": [
      "Number of agents: 2\n",
      "Size of each action: 2\n",
      "There are 2 agents. Each observes a state with length: 24\n",
      "The state for the first agent looks like: [ 0.          0.          0.          0.          0.          0.          0.\n",
      "  0.          0.          0.          0.          0.          0.          0.\n",
      "  0.          0.         -6.65278625 -1.5        -0.          0.\n",
      "  6.83172083  6.         -0.          0.        ]\n"
     ]
    }
   ],
   "source": [
    "# reset the environment\n",
    "env_info = env.reset(train_mode=True)[brain_name]\n",
    "\n",
    "# number of agents \n",
    "num_agents = len(env_info.agents)\n",
    "print('Number of agents:', num_agents)\n",
    "\n",
    "# size of each action\n",
    "action_size = brain.vector_action_space_size\n",
    "print('Size of each action:', action_size)\n",
    "\n",
    "# examine the state space \n",
    "states = env_info.vector_observations\n",
    "state_size = states.shape[1]\n",
    "print('There are {} agents. Each observes a state with length: {}'.format(states.shape[0], state_size))\n",
    "print('The state for the first agent looks like:', states[0])"
   ]
  },
  {
   "cell_type": "markdown",
   "metadata": {},
   "source": [
    "### 3. Take Random Actions in the Environment\n",
    "\n",
    "In the next code cell, you will learn how to use the Python API to control the agent and receive feedback from the environment.\n",
    "\n",
    "Note that **in this coding environment, you will not be able to watch the agents while they are training**, and you should set `train_mode=True` to restart the environment."
   ]
  },
  {
   "cell_type": "code",
   "execution_count": 5,
   "metadata": {},
   "outputs": [
    {
     "name": "stdout",
     "output_type": "stream",
     "text": [
      "Total score (averaged over agents) this episode: -0.004999999888241291\n",
      "Total score (averaged over agents) this episode: -0.004999999888241291\n",
      "Total score (averaged over agents) this episode: -0.004999999888241291\n",
      "Total score (averaged over agents) this episode: -0.004999999888241291\n",
      "Total score (averaged over agents) this episode: -0.004999999888241291\n"
     ]
    }
   ],
   "source": [
    "for i in range(5):                                         # play game for 5 episodes\n",
    "    env_info = env.reset(train_mode=False)[brain_name]     # reset the environment    \n",
    "    states = env_info.vector_observations                  # get the current state (for each agent)\n",
    "    scores = np.zeros(num_agents)                          # initialize the score (for each agent)\n",
    "    while True:\n",
    "        actions = np.random.randn(num_agents, action_size) # select an action (for each agent)\n",
    "        actions = np.clip(actions, -1, 1)                  # all actions between -1 and 1\n",
    "        env_info = env.step(actions)[brain_name]           # send all actions to tne environment\n",
    "        next_states = env_info.vector_observations         # get next state (for each agent)\n",
    "        rewards = env_info.rewards                         # get reward (for each agent)\n",
    "        dones = env_info.local_done                        # see if episode finished\n",
    "        scores += env_info.rewards                         # update the score (for each agent)\n",
    "        states = next_states                               # roll over states to next time step\n",
    "        if np.any(dones):                                  # exit loop if episode finished\n",
    "            break\n",
    "    print('Total score (averaged over agents) this episode: {}'.format(np.mean(scores)))"
   ]
  },
  {
   "cell_type": "markdown",
   "metadata": {},
   "source": [
    "When finished, you can close the environment."
   ]
  },
  {
   "cell_type": "markdown",
   "metadata": {},
   "source": [
    "### 4. It's Your Turn!\n",
    "\n",
    "Now it's your turn to train your own agent to solve the environment!  A few **important notes**:\n",
    "- When training the environment, set `train_mode=True`, so that the line for resetting the environment looks like the following:\n",
    "```python\n",
    "env_info = env.reset(train_mode=True)[brain_name]\n",
    "```\n",
    "- To structure your work, you're welcome to work directly in this Jupyter notebook, or you might like to start over with a new file!  You can see the list of files in the workspace by clicking on **_Jupyter_** in the top left corner of the notebook.\n",
    "- In this coding environment, you will not be able to watch the agents while they are training.  However, **_after training the agents_**, you can download the saved model weights to watch the agents on your own machine! "
   ]
  },
  {
   "cell_type": "code",
   "execution_count": 6,
   "metadata": {},
   "outputs": [],
   "source": [
    "import matplotlib.pyplot as plt\n",
    "import numpy as np\n",
    "import random\n",
    "import time\n",
    "import torch\n",
    "\n",
    "from maddpg_agent import Agent\n",
    "from collections import deque\n",
    "from unityagents import UnityEnvironment\n",
    "\n",
    "%matplotlib inline"
   ]
  },
  {
   "cell_type": "code",
   "execution_count": 7,
   "metadata": {},
   "outputs": [],
   "source": [
    "TARGET_SCORE = 0.51\n",
    "EPISODES = 100\n",
    "PRINT_EVERY = 10\n",
    "ADD_NOISE = True"
   ]
  },
  {
   "cell_type": "code",
   "execution_count": 8,
   "metadata": {},
   "outputs": [],
   "source": [
    "# MADDPG function\n",
    "\n",
    "def maddpg(n_episodes=2000, max_t=1000, train_mode=True):\n",
    "    \"\"\"Multi-Agent Deep Deterministic Policy Gradient (MADDPG)\n",
    "    \n",
    "    Params\n",
    "    ======\n",
    "        n_episodes (int)      : maximum number of training episodes\n",
    "        max_t (int)           : maximum number of timesteps per episode\n",
    "        train_mode (bool)     : if 'True' set environment to training mode\n",
    "\n",
    "    \"\"\"\n",
    "    scores_queue = deque(maxlen=EPISODES)\n",
    "    scores_arr = []\n",
    "    average_score = []\n",
    "    best_score = -np.inf\n",
    "    best_episode = 0\n",
    "    already_solved = False    \n",
    "\n",
    "    for i_episode in range(1, n_episodes+1):\n",
    "        env_info = env.reset(train_mode=train_mode)[brain_name]         # reset environment\n",
    "        states = np.reshape(env_info.vector_observations, (1,48)) # get states \n",
    "        agent_0.reset()\n",
    "        agent_1.reset()\n",
    "        scores = np.zeros(num_agents)\n",
    "        while True:\n",
    "            actions = get_actions(states, ADD_NOISE)           # choose agent actions \n",
    "            env_info = env.step(actions)[brain_name]           # send agents' actions to the environment\n",
    "            next_states = np.reshape(env_info.vector_observations, (1, 48)) # get agents' next states\n",
    "            rewards = env_info.rewards                         # get rewards\n",
    "            done = env_info.local_done                         # episode state \n",
    "            agent_0.step(states, actions, rewards[0], next_states, done, 0) # learn agent 1 \n",
    "            agent_1.step(states, actions, rewards[1], next_states, done, 1) # Learn agent 2\n",
    "            scores += np.max(rewards)                          # add the best score\n",
    "            states = next_states                               # roll over states to next time step\n",
    "            if np.any(done):                                   # exit loop if episode finished\n",
    "                break\n",
    "\n",
    "        episode_best_score = np.max(scores)\n",
    "        scores_queue.append(episode_best_score)\n",
    "        scores_arr.append(episode_best_score)\n",
    "        average_score.append(np.mean(scores_queue))\n",
    "\n",
    "        # save best score                        \n",
    "        if episode_best_score > best_score:\n",
    "            best_score = episode_best_score\n",
    "            best_episode = i_episode\n",
    "        \n",
    "        # print results\n",
    "        if i_episode % PRINT_EVERY == 0:\n",
    "            print('Episodes {:0>4d}-{:0>4d}\\t Highest Reward: {:.3f}\\t Lowest Reward: {:.3f}\\t Average Score: {:.3f}'.format(\n",
    "                i_episode-PRINT_EVERY, i_episode, np.max(scores_arr[-PRINT_EVERY:]), np.min(scores_arr[-PRINT_EVERY:]), average_score[-1]))\n",
    "\n",
    "        # determine if environment is solved and keep best performing models\n",
    "        if average_score[-1] >= TARGET_SCORE:\n",
    "            print('<-- Environment solved in {:d} episodes! \\\n",
    "                \\n<-- Average Score: {:.3f} over past {:d} episodes'.format(\n",
    "                    i_episode-EPISODES, average_score[-1], EPISODES))\n",
    "            already_solved = True\n",
    "            # save weights\n",
    "            torch.save(agent_0.actor_local.state_dict(), 'checkpoint_actor_0.pth')\n",
    "            torch.save(agent_0.critic_local.state_dict(), 'checkpoint_critic_0.pth')\n",
    "            torch.save(agent_1.actor_local.state_dict(), 'checkpoint_actor_1.pth')\n",
    "            torch.save(agent_1.critic_local.state_dict(), 'checkpoint_critic_1.pth')\n",
    "            break\n",
    "           \n",
    "            \n",
    "    return scores_arr, average_score"
   ]
  },
  {
   "cell_type": "code",
   "execution_count": 9,
   "metadata": {},
   "outputs": [],
   "source": [
    "def get_actions(states, add_noise):\n",
    "    '''gets actions for each agent and a single array with both actions'''\n",
    "    action_0 = agent_0.act(states, add_noise)    # agent 0 chooses an action\n",
    "    action_1 = agent_1.act(states, add_noise)    # agent 1 chooses an action\n",
    "    return np.concatenate((action_0, action_1), axis=0).flatten()"
   ]
  },
  {
   "cell_type": "code",
   "execution_count": 10,
   "metadata": {},
   "outputs": [],
   "source": [
    "# initialize agents\n",
    "agent_0 = Agent(state_size, action_size, num_agents=1, random_seed=0)\n",
    "agent_1 = Agent(state_size, action_size, num_agents=1, random_seed=0)"
   ]
  },
  {
   "cell_type": "code",
   "execution_count": 11,
   "metadata": {},
   "outputs": [
    {
     "data": {
      "text/plain": [
       "'BUFFER_SIZE = int(1e6)  # replay buffer size\\nBATCH_SIZE = 128        # minibatch size\\nLR_ACTOR = 1e-3         # learning rate of the actor\\nLR_CRITIC = 1e-3        # learning rate of the critic\\nWEIGHT_DECAY = 0        # L2 weight decay\\nLEARN_EVERY = 5         # learning timestep interval\\nLEARN_NUM = 5           # number of learning passes\\nGAMMA = 0.99            # discount factor\\nTAU = 7e-2              # for soft update of target parameters\\nOU_SIGMA = 0.2          # Ornstein-Uhlenbeck noise parameter, volatility\\nOU_THETA = 0.11         # Ornstein-Uhlenbeck noise parameter, speed of mean reversion\\nEPS_START = 5.5         # initial value for epsilon in noise decay process in Agent.act()\\nEPS_EP_END = 250        # episode to end the noise decay process\\nEPS_FINAL = 0           # final value for epsilon after decay\\n'"
      ]
     },
     "execution_count": 11,
     "metadata": {},
     "output_type": "execute_result"
    }
   ],
   "source": [
    "\"\"\"BUFFER_SIZE = int(1e6)  # replay buffer size\n",
    "BATCH_SIZE = 128        # minibatch size\n",
    "LR_ACTOR = 1e-3         # learning rate of the actor\n",
    "LR_CRITIC = 1e-3        # learning rate of the critic\n",
    "WEIGHT_DECAY = 0        # L2 weight decay\n",
    "LEARN_EVERY = 5         # learning timestep interval\n",
    "LEARN_NUM = 5           # number of learning passes\n",
    "GAMMA = 0.99            # discount factor\n",
    "TAU = 7e-2              # for soft update of target parameters\n",
    "OU_SIGMA = 0.2          # Ornstein-Uhlenbeck noise parameter, volatility\n",
    "OU_THETA = 0.11         # Ornstein-Uhlenbeck noise parameter, speed of mean reversion\n",
    "EPS_START = 5.5         # initial value for epsilon in noise decay process in Agent.act()\n",
    "EPS_EP_END = 250        # episode to end the noise decay process\n",
    "EPS_FINAL = 0           # final value for epsilon after decay\n",
    "\"\"\""
   ]
  },
  {
   "cell_type": "code",
   "execution_count": 12,
   "metadata": {
    "scrolled": false
   },
   "outputs": [
    {
     "name": "stdout",
     "output_type": "stream",
     "text": [
      "Episodes 0000-0010\t Highest Reward: 0.000\t Lowest Reward: 0.000\t Average Score: 0.000\n",
      "Episodes 0010-0020\t Highest Reward: 0.000\t Lowest Reward: 0.000\t Average Score: 0.000\n",
      "Episodes 0020-0030\t Highest Reward: 0.100\t Lowest Reward: 0.000\t Average Score: 0.003\n",
      "Episodes 0030-0040\t Highest Reward: 0.100\t Lowest Reward: 0.000\t Average Score: 0.010\n",
      "Episodes 0040-0050\t Highest Reward: 0.000\t Lowest Reward: 0.000\t Average Score: 0.008\n",
      "Episodes 0050-0060\t Highest Reward: 0.100\t Lowest Reward: 0.000\t Average Score: 0.008\n",
      "Episodes 0060-0070\t Highest Reward: 0.100\t Lowest Reward: 0.000\t Average Score: 0.009\n",
      "Episodes 0070-0080\t Highest Reward: 0.000\t Lowest Reward: 0.000\t Average Score: 0.008\n",
      "Episodes 0080-0090\t Highest Reward: 0.100\t Lowest Reward: 0.000\t Average Score: 0.008\n",
      "Episodes 0090-0100\t Highest Reward: 0.100\t Lowest Reward: 0.000\t Average Score: 0.008\n",
      "Episodes 0100-0110\t Highest Reward: 0.000\t Lowest Reward: 0.000\t Average Score: 0.008\n",
      "Episodes 0110-0120\t Highest Reward: 0.100\t Lowest Reward: 0.000\t Average Score: 0.010\n",
      "Episodes 0120-0130\t Highest Reward: 0.200\t Lowest Reward: 0.000\t Average Score: 0.012\n",
      "Episodes 0130-0140\t Highest Reward: 0.300\t Lowest Reward: 0.000\t Average Score: 0.017\n",
      "Episodes 0140-0150\t Highest Reward: 0.100\t Lowest Reward: 0.000\t Average Score: 0.018\n",
      "Episodes 0150-0160\t Highest Reward: 0.200\t Lowest Reward: 0.000\t Average Score: 0.023\n",
      "Episodes 0160-0170\t Highest Reward: 0.200\t Lowest Reward: 0.000\t Average Score: 0.026\n",
      "Episodes 0170-0180\t Highest Reward: 0.200\t Lowest Reward: 0.000\t Average Score: 0.033\n",
      "Episodes 0180-0190\t Highest Reward: 0.500\t Lowest Reward: 0.000\t Average Score: 0.041\n",
      "Episodes 0190-0200\t Highest Reward: 0.300\t Lowest Reward: 0.000\t Average Score: 0.050\n",
      "Episodes 0200-0210\t Highest Reward: 0.300\t Lowest Reward: 0.000\t Average Score: 0.054\n",
      "Episodes 0210-0220\t Highest Reward: 0.100\t Lowest Reward: 0.000\t Average Score: 0.058\n",
      "Episodes 0220-0230\t Highest Reward: 0.300\t Lowest Reward: 0.000\t Average Score: 0.065\n",
      "Episodes 0230-0240\t Highest Reward: 0.300\t Lowest Reward: 0.000\t Average Score: 0.067\n",
      "Episodes 0240-0250\t Highest Reward: 0.500\t Lowest Reward: 0.000\t Average Score: 0.078\n",
      "Episodes 0250-0260\t Highest Reward: 0.200\t Lowest Reward: 0.000\t Average Score: 0.079\n",
      "Episodes 0260-0270\t Highest Reward: 0.900\t Lowest Reward: 0.000\t Average Score: 0.095\n",
      "Episodes 0270-0280\t Highest Reward: 0.200\t Lowest Reward: 0.000\t Average Score: 0.098\n",
      "Episodes 0280-0290\t Highest Reward: 0.400\t Lowest Reward: 0.100\t Average Score: 0.110\n",
      "Episodes 0290-0300\t Highest Reward: 0.300\t Lowest Reward: 0.000\t Average Score: 0.111\n",
      "Episodes 0300-0310\t Highest Reward: 1.200\t Lowest Reward: 0.000\t Average Score: 0.143\n",
      "Episodes 0310-0320\t Highest Reward: 0.700\t Lowest Reward: 0.000\t Average Score: 0.155\n",
      "Episodes 0320-0330\t Highest Reward: 0.200\t Lowest Reward: 0.000\t Average Score: 0.159\n",
      "Episodes 0330-0340\t Highest Reward: 1.100\t Lowest Reward: 0.000\t Average Score: 0.178\n",
      "Episodes 0340-0350\t Highest Reward: 0.800\t Lowest Reward: 0.000\t Average Score: 0.188\n",
      "Episodes 0350-0360\t Highest Reward: 1.100\t Lowest Reward: 0.100\t Average Score: 0.235\n",
      "Episodes 0360-0370\t Highest Reward: 0.900\t Lowest Reward: 0.000\t Average Score: 0.246\n",
      "Episodes 0370-0380\t Highest Reward: 1.200\t Lowest Reward: 0.000\t Average Score: 0.269\n",
      "Episodes 0380-0390\t Highest Reward: 1.100\t Lowest Reward: 0.000\t Average Score: 0.280\n",
      "Episodes 0390-0400\t Highest Reward: 0.900\t Lowest Reward: 0.000\t Average Score: 0.293\n",
      "Episodes 0400-0410\t Highest Reward: 0.600\t Lowest Reward: 0.000\t Average Score: 0.281\n",
      "Episodes 0410-0420\t Highest Reward: 1.300\t Lowest Reward: 0.000\t Average Score: 0.303\n",
      "Episodes 0420-0430\t Highest Reward: 2.200\t Lowest Reward: 0.000\t Average Score: 0.347\n",
      "Episodes 0430-0440\t Highest Reward: 1.100\t Lowest Reward: 0.100\t Average Score: 0.366\n",
      "Episodes 0440-0450\t Highest Reward: 1.100\t Lowest Reward: 0.000\t Average Score: 0.395\n",
      "Episodes 0450-0460\t Highest Reward: 1.000\t Lowest Reward: 0.000\t Average Score: 0.382\n",
      "Episodes 0460-0470\t Highest Reward: 0.400\t Lowest Reward: 0.000\t Average Score: 0.368\n",
      "Episodes 0470-0480\t Highest Reward: 1.100\t Lowest Reward: 0.000\t Average Score: 0.379\n",
      "Episodes 0480-0490\t Highest Reward: 0.400\t Lowest Reward: 0.100\t Average Score: 0.368\n",
      "Episodes 0490-0500\t Highest Reward: 0.500\t Lowest Reward: 0.000\t Average Score: 0.367\n",
      "Episodes 0500-0510\t Highest Reward: 0.800\t Lowest Reward: 0.000\t Average Score: 0.384\n",
      "Episodes 0510-0520\t Highest Reward: 1.500\t Lowest Reward: 0.100\t Average Score: 0.395\n",
      "Episodes 0520-0530\t Highest Reward: 0.700\t Lowest Reward: 0.100\t Average Score: 0.368\n",
      "Episodes 0530-0540\t Highest Reward: 1.000\t Lowest Reward: 0.100\t Average Score: 0.346\n",
      "Episodes 0540-0550\t Highest Reward: 0.600\t Lowest Reward: 0.000\t Average Score: 0.316\n",
      "Episodes 0550-0560\t Highest Reward: 1.900\t Lowest Reward: 0.100\t Average Score: 0.333\n",
      "Episodes 0560-0570\t Highest Reward: 2.800\t Lowest Reward: 0.200\t Average Score: 0.374\n",
      "Episodes 0570-0580\t Highest Reward: 1.400\t Lowest Reward: 0.000\t Average Score: 0.377\n",
      "Episodes 0580-0590\t Highest Reward: 3.000\t Lowest Reward: 0.000\t Average Score: 0.412\n",
      "Episodes 0590-0600\t Highest Reward: 2.200\t Lowest Reward: 0.000\t Average Score: 0.458\n",
      "<-- Environment solved in 507 episodes!                 \n",
      "<-- Average Score: 0.547 over past 100 episodes\n"
     ]
    }
   ],
   "source": [
    "scores, avgs = maddpg()"
   ]
  },
  {
   "cell_type": "code",
   "execution_count": 13,
   "metadata": {},
   "outputs": [
    {
     "data": {
      "image/png": "[encoded data removed]",
      "text/plain": [
       "<matplotlib.figure.Figure at 0x7f02716acbe0>"
      ]
     },
     "metadata": {
      "needs_background": "light"
     },
     "output_type": "display_data"
    }
   ],
   "source": [
    "# plot the scores\n",
    "fig = plt.figure()\n",
    "ax = fig.add_subplot(111)\n",
    "plt.plot(np.arange(len(scores)), scores, label='MADDPG')\n",
    "plt.plot(np.arange(len(scores)), avgs, c='r', label='Average Score avg')\n",
    "plt.ylabel('Score')\n",
    "plt.xlabel('Episode #')\n",
    "plt.legend(loc='upper left');\n",
    "plt.show()"
   ]
  },
  {
   "cell_type": "code",
   "execution_count": 14,
   "metadata": {},
   "outputs": [],
   "source": [
    "env.close()"
   ]
  },
  {
   "cell_type": "code",
   "execution_count": null,
   "metadata": {},
   "outputs": [],
   "source": []
  },
  {
   "cell_type": "code",
   "execution_count": null,
   "metadata": {},
   "outputs": [],
   "source": []
  }
 ],
 "metadata": {
  "kernelspec": {
   "display_name": "Python 3",
   "language": "python",
   "name": "python3"
  },
  "language_info": {
   "codemirror_mode": {
    "name": "ipython",
    "version": 3
   },
   "file_extension": ".py",
   "mimetype": "text/x-python",
   "name": "python",
   "nbconvert_exporter": "python",
   "pygments_lexer": "ipython3",
   "version": "3.6.3"
  }
 },
 "nbformat": 4,
 "nbformat_minor": 2
}
